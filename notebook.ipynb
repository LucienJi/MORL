{
 "cells": [
  {
   "cell_type": "code",
   "execution_count": 1,
   "metadata": {},
   "outputs": [
    {
     "name": "stderr",
     "output_type": "stream",
     "text": [
      "/home/jijingtian/anaconda3/envs/morl/lib/python3.7/site-packages/gymnasium/spaces/box.py:130: UserWarning: \u001b[33mWARN: Box bound precision lowered by casting to float32\u001b[0m\n",
      "  gym.logger.warn(f\"Box bound precision lowered by casting to {self.dtype}\")\n"
     ]
    }
   ],
   "source": [
    "import gymnasium as gym\n",
    "import mo_gymnasium as mo_gym\n",
    "import numpy as np\n",
    "\n",
    "# It follows the original Gymnasium API ...\n",
    "env = mo_gym.make('minecart-v0')"
   ]
  },
  {
   "cell_type": "code",
   "execution_count": 2,
   "metadata": {},
   "outputs": [],
   "source": [
    "env = mo_gym.LinearReward(env, weight=np.array([0.8, 0.2, 0.2]))"
   ]
  },
  {
   "cell_type": "code",
   "execution_count": 2,
   "metadata": {},
   "outputs": [],
   "source": [
    "def make_styled_env(env_id,seed):\n",
    "    def thunk():\n",
    "        env = mo_gym.make('minecart-v0')\n",
    "        env = mo_gym.LinearReward(env, weight=np.array([0.1, 0.2, 0.2]))\n",
    "        # env = mo_gym.MORecordEpisodeStatistics(env)\n",
    "        # env = gym.wrappers.RecordEpisodeStatistics(env)\n",
    "        if hasattr(env, 'seed'):\n",
    "            env.seed(seed)\n",
    "        env.action_space.seed(seed)\n",
    "        env.observation_space.seed(seed)\n",
    "        return env\n",
    "    return thunk"
   ]
  },
  {
   "cell_type": "code",
   "execution_count": 3,
   "metadata": {},
   "outputs": [],
   "source": [
    "env_list = [make_styled_env('minecart-v0',seed) for seed in range(3)]\n",
    "# envs = mo_gym.MOSyncVectorEnv(env_list)\n",
    "envs = gym.vector.SyncVectorEnv(env_list)\n",
    "# envs = mo_gym.MORecordEpisodeStatistics(envs)\n",
    "envs = gym.wrappers.RecordEpisodeStatistics(envs)"
   ]
  },
  {
   "cell_type": "code",
   "execution_count": 17,
   "metadata": {},
   "outputs": [
    {
     "name": "stdout",
     "output_type": "stream",
     "text": [
      "{'r': array([-0.49599996,  0.        ,  0.        ], dtype=float32), 'l': array([29,  0,  0], dtype=int32), 't': array([0., 0., 0.], dtype=float32)}\n",
      "-0.49599996\n",
      "{'r': array([ 0.       , -0.8760003,  0.       ], dtype=float32), 'l': array([ 0, 69,  0], dtype=int32), 't': array([0., 0., 0.], dtype=float32)}\n",
      "-0.8760003\n"
     ]
    }
   ],
   "source": [
    "obs,_ = envs.reset()\n",
    "for _ in range(100):\n",
    "    next_obs, reward, done,truncted, info = envs.step(envs.action_space.sample())\n",
    "    if \"episode\" in info.keys():\n",
    "        print(info['episode'])\n",
    "        for i,terminate in enumerate(info['_episode']):\n",
    "            if terminate:\n",
    "                print(info['episode']['r'][i])\n"
   ]
  },
  {
   "cell_type": "code",
   "execution_count": null,
   "metadata": {},
   "outputs": [],
   "source": []
  },
  {
   "cell_type": "code",
   "execution_count": null,
   "metadata": {},
   "outputs": [],
   "source": []
  }
 ],
 "metadata": {
  "kernelspec": {
   "display_name": "morl",
   "language": "python",
   "name": "python3"
  },
  "language_info": {
   "codemirror_mode": {
    "name": "ipython",
    "version": 3
   },
   "file_extension": ".py",
   "mimetype": "text/x-python",
   "name": "python",
   "nbconvert_exporter": "python",
   "pygments_lexer": "ipython3",
   "version": "3.7.0"
  },
  "orig_nbformat": 4
 },
 "nbformat": 4,
 "nbformat_minor": 2
}
