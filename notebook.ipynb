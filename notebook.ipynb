{
 "cells": [
  {
   "cell_type": "code",
   "execution_count": 13,
   "metadata": {},
   "outputs": [],
   "source": [
    "# import gymnasium as gym\n",
    "import gym\n",
    "import mo_gymnasium as mo_gym\n",
    "import numpy as np\n",
    "from gym.wrappers import RecordVideo\n",
    "# It follows the original Gymnasium API ...\n",
    "import os\n",
    "os.environ[\"SDL_VIDEODRIVER\"] = \"dummy\"\n",
    "env = mo_gym.make('mo-lunar-lander-v2')"
   ]
  },
  {
   "cell_type": "code",
   "execution_count": 15,
   "metadata": {},
   "outputs": [
    {
     "data": {
      "text/plain": [
       "1"
      ]
     },
     "execution_count": 15,
     "metadata": {},
     "output_type": "execute_result"
    }
   ],
   "source": [
    "env.action_space.sample()"
   ]
  },
  {
   "cell_type": "code",
   "execution_count": 12,
   "metadata": {},
   "outputs": [
    {
     "name": "stderr",
     "output_type": "stream",
     "text": [
      "/home/jijingtian/anaconda3/envs/morl/lib/python3.7/site-packages/gym/wrappers/monitoring/video_recorder.py:60: UserWarning: \u001b[33mWARN: Disabling video recorder because environment <RecordVideo<TimeLimit<OrderEnforcingCompleted: False Departed: False Content: [0. 0.] Speed: 0 Direction: 45 (0.7853981633974483) Position: [0. 0.] >>> was not initialized with any compatible video mode between `rgb_array` and `rgb_array_list`\u001b[0m\n",
      "  f\"Disabling video recorder because environment {env} was not initialized with any compatible video \"\n"
     ]
    }
   ],
   "source": [
    "o,i = env.reset()\n",
    "for _ in range(100):\n",
    "    o,r,d,t,_ = env.step(env.action_space.sample())\n",
    "    env.render()\n",
    "    if d:\n",
    "        o,i = env.reset()\n",
    "env.close()"
   ]
  },
  {
   "cell_type": "code",
   "execution_count": null,
   "metadata": {},
   "outputs": [],
   "source": []
  }
 ],
 "metadata": {
  "kernelspec": {
   "display_name": "morl",
   "language": "python",
   "name": "python3"
  },
  "language_info": {
   "codemirror_mode": {
    "name": "ipython",
    "version": 3
   },
   "file_extension": ".py",
   "mimetype": "text/x-python",
   "name": "python",
   "nbconvert_exporter": "python",
   "pygments_lexer": "ipython3",
   "version": "3.7.0"
  },
  "orig_nbformat": 4
 },
 "nbformat": 4,
 "nbformat_minor": 2
}
