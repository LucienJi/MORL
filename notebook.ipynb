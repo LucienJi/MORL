{
 "cells": [
  {
   "cell_type": "code",
   "execution_count": 7,
   "metadata": {},
   "outputs": [],
   "source": [
    "from algorithm.ppo import Learner\n",
    "from configs.args_parser import Parameters\n",
    "from configs import Factor_dictionary\n",
    "from algorithm.analysis import MO_Analysis\n",
    "from algorithm.utils import MO_Stats\n",
    "import mo_gymnasium as mo_gym \n",
    "from torch.utils.tensorboard import SummaryWriter\n",
    "import numpy as np\n",
    "env_id = 'minecart-v0'\n"
   ]
  },
  {
   "cell_type": "code",
   "execution_count": 8,
   "metadata": {},
   "outputs": [],
   "source": [
    "run_name = \"dist_test\"\n",
    "writer = SummaryWriter(f\"logs/test_folder/{run_name}\")"
   ]
  },
  {
   "cell_type": "code",
   "execution_count": 9,
   "metadata": {},
   "outputs": [
    {
     "name": "stderr",
     "output_type": "stream",
     "text": [
      "/home/jijingtian/anaconda3/envs/morl/lib/python3.7/site-packages/gymnasium/spaces/box.py:130: UserWarning: \u001b[33mWARN: Box bound precision lowered by casting to float32\u001b[0m\n",
      "  gym.logger.warn(f\"Box bound precision lowered by casting to {self.dtype}\")\n"
     ]
    }
   ],
   "source": [
    "min_samples,mn_ep = 1000,10\n",
    "step_ct = 0\n",
    "ep_ct = 0\n",
    "env = mo_gym.make(env_id)\n",
    "mo_analysis = MO_Stats()\n",
    "while step_ct < min_samples and ep_ct < mn_ep:\n",
    "    obs,info = env.reset()\n",
    "    done = False\n",
    "    while not done:\n",
    "        action = env.action_space.sample()\n",
    "        next_obs, reward, done, truncted,info = env.step(action)\n",
    "        mo_analysis.update(obs,action,reward)\n",
    "        obs = next_obs\n",
    "        step_ct += 1\n",
    "    ep_ct += 1"
   ]
  },
  {
   "cell_type": "code",
   "execution_count": 10,
   "metadata": {},
   "outputs": [],
   "source": [
    "actions,states,rewards = mo_analysis.raw_data()"
   ]
  },
  {
   "cell_type": "code",
   "execution_count": 14,
   "metadata": {},
   "outputs": [],
   "source": [
    "for i in range(actions.shape[1]):\n",
    "    writer.add_histogram(f\"{str(np.array([1,1,0]))}/action\",actions[:,i],i,bins=env.action_space.n)\n",
    "for i in range(states.shape[1]):\n",
    "    writer.add_histogram(f\"{str(np.array([1,1,0]))}/states\",states[:,i],i)\n",
    "for i in range(rewards.shape[1]):\n",
    "    writer.add_histogram(f\"{str(np.array([1,1,0]))}/reward\",rewards[:,i],i)\n",
    "writer.close()"
   ]
  },
  {
   "cell_type": "code",
   "execution_count": null,
   "metadata": {},
   "outputs": [],
   "source": []
  }
 ],
 "metadata": {
  "kernelspec": {
   "display_name": "morl",
   "language": "python",
   "name": "python3"
  },
  "language_info": {
   "codemirror_mode": {
    "name": "ipython",
    "version": 3
   },
   "file_extension": ".py",
   "mimetype": "text/x-python",
   "name": "python",
   "nbconvert_exporter": "python",
   "pygments_lexer": "ipython3",
   "version": "3.7.0"
  },
  "orig_nbformat": 4
 },
 "nbformat": 4,
 "nbformat_minor": 2
}
